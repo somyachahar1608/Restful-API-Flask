{
  "nbformat": 4,
  "nbformat_minor": 0,
  "metadata": {
    "colab": {
      "provenance": []
    },
    "kernelspec": {
      "name": "python3",
      "display_name": "Python 3"
    },
    "language_info": {
      "name": "python"
    }
  },
  "cells": [
    {
      "cell_type": "markdown",
      "source": [
        "#Theory Question"
      ],
      "metadata": {
        "id": "RMoL8a32G7yv"
      }
    },
    {
      "cell_type": "markdown",
      "source": [
        "1. What is a RESTful API?\n",
        "\n",
        "  >A RESTful API, also known as a REST API, is an application programming interface (API) that adheres to the architectural style of Representational State Transfer (REST). REST is a set of guidelines and constraints for designing networked applications, particularly web services."
      ],
      "metadata": {
        "id": "GlCZje7PG7-J"
      }
    },
    {
      "cell_type": "markdown",
      "source": [
        "2. Explain the concept of API specification\n",
        "\n",
        "  >An API specification is a formal, machine-readable document that precisely describes the functional and expected behavior of an Application Programming Interface (API). It serves as a blueprint or contract for how an API operates, detailing its capabilities, how to interact with it, and the data it exchanges.\n"
      ],
      "metadata": {
        "id": "KH5PUCLkG8Dk"
      }
    },
    {
      "cell_type": "markdown",
      "source": [
        "3. What is Flask, and why is it popular for building APIs\n",
        "\n",
        "  >Flask is a micro web framework written in Python. It is called a \"microframework\" because it provides only the essential tools for web development, without including built-in features like object-relational mappers (ORMs) or extensive administrative panels, which are often found in larger frameworks like Django. Flask focuses on simplicity and flexibility, allowing developers to add only the components they need through extensions.\n"
      ],
      "metadata": {
        "id": "jZxBjLAUG8Ij"
      }
    },
    {
      "cell_type": "markdown",
      "source": [
        "4. What is routing in Flask?\n",
        "\n",
        "  >Routing in Flask is the mechanism that maps specific URL patterns to Python functions, known as \"view functions,\" that handle the requests made to those URLs. When a user accesses a particular URL in a Flask application, Flask's routing system determines which view function should be executed to generate the response.\n",
        "\n"
      ],
      "metadata": {
        "id": "zKN52oWEG8PQ"
      }
    },
    {
      "cell_type": "markdown",
      "source": [
        "5. How do you create a simple Flask application\n",
        "\n",
        "  >Creating a simple Flask application involves a few key steps:\n",
        "\n",
        "  >~Set up your environment\n",
        "\n",
        "  >~Create the Flask application file\n",
        "\n",
        "  >~Define routes and view functions\n",
        "\n",
        "  >~Run the application\n",
        "\n",
        "  >~Execute the application"
      ],
      "metadata": {
        "id": "qeggYcedG8Ss"
      }
    },
    {
      "cell_type": "markdown",
      "source": [
        "6. What are HTTP methods used in RESTful APIs\n",
        "\n",
        "  >RESTful APIs leverage standard HTTP methods to perform operations on resources, aligning with the principles of Representational State Transfer. The most commonly used HTTP methods in RESTful API development are:\n",
        "\n",
        "  ~GET\n",
        "\n",
        "  ~POST\n",
        "\n",
        "  ~PUT\n",
        "\n",
        "  ~PATCH\n",
        "\n",
        "  ~DELETE\n",
        "\n",
        "  ~HEAD\n",
        "  \n",
        "  ~OPTIONS"
      ],
      "metadata": {
        "id": "NFtxBrAqG8c0"
      }
    },
    {
      "cell_type": "markdown",
      "source": [
        "7. What is the purpose of the @app.route() decorator in Flask\n",
        "\n",
        "  >The @app.route() decorator in Flask serves the purpose of defining URL routes and associating them with specific Python functions. It acts as a mechanism to map incoming HTTP requests for a particular URL path to the corresponding function that will handle that request and generate a response.\n"
      ],
      "metadata": {
        "id": "4cmIQOc0G8jt"
      }
    },
    {
      "cell_type": "markdown",
      "source": [
        "8. What is the difference between GET and POST HTTP methods\n",
        "\n",
        "  >The GET and POST methods are two of the most common HTTP request methods used for client-server communication. Their primary differences lie in their purpose, data handling, and characteristics:\n",
        "\n",
        "Purpose:\n",
        "\n",
        "GET:\n",
        "Primarily used to retrieve data from a specified resource on the server. It is for requesting information, like viewing a webpage, searching for content, or fetching an image.\n",
        "\n",
        "POST:\n",
        "Primarily used to send data to the server to create or update a resource. It is for submitting information, like filling out a form, uploading a file, or adding a new record to a database.\n",
        "\n",
        "Data Transmission:\n",
        "\n",
        "GET:\n",
        "Data is appended to the URL as query parameters. This means the data is visible in the browser's address bar and can be bookmarked or stored in browser history.\n",
        "\n",
        "POST:\n",
        "Data is sent in the body of the HTTP request. This makes the data less visible and is generally preferred for sensitive information like passwords.\n",
        "\n",
        "Data Size and Types:\n",
        "\n",
        "GET:\n",
        "Has limitations on the amount of data that can be sent, as URLs have length restrictions. It primarily supports string data.\n",
        "\n",
        "POST:\n",
        "Can send much larger amounts of data as it's carried in the request body, and it can handle various data types, including binary data (e.g., file uploads."
      ],
      "metadata": {
        "id": "KiOhNNapG8oU"
      }
    },
    {
      "cell_type": "markdown",
      "source": [
        "9. How do you handle errors in Flask APIs\n",
        "\n",
        "   >Error handling in a Flask API primarily involves using Flask's built-in error handling mechanisms and potentially custom exceptions to provide clear and consistent responses to clients."
      ],
      "metadata": {
        "id": "KLUNclobG8rt"
      }
    },
    {
      "cell_type": "markdown",
      "source": [
        "10. How do you connect Flask to a SQL database\n",
        "\n",
        "  >Connecting Flask to a SQL database is commonly achieved using an Object-Relational Mapper (ORM) like Flask-SQLAlchemy, which provides a high-level interface to interact with various SQL databases."
      ],
      "metadata": {
        "id": "B0l-3wWBG8yg"
      }
    },
    {
      "cell_type": "markdown",
      "source": [
        "11. What is the role of Flask-SQLAlchemy\n",
        "\n",
        "  >Flask-SQLAlchemy is a Flask extension that makes using SQLAlchemy with Flask easier, providing you tools and methods to interact with your database in your Flask applications through SQLAlchemy. In this tutorial, you'll build a small student management system that demonstrates how to use the Flask-SQLAlchemy extension.\n"
      ],
      "metadata": {
        "id": "DGyvNDejG83r"
      }
    },
    {
      "cell_type": "markdown",
      "source": [
        "12. What are Flask blueprints, and how are they useful\n",
        "\n",
        "  >Flask Blueprints are a mechanism within the Flask web framework that allows for the organization of application code into smaller, reusable, and modular components. They act as blueprints (hence the name) for specific parts of your application, encapsulating related functionalities, routes, templates, and static files.\n"
      ],
      "metadata": {
        "id": "sks4aeB2G9MY"
      }
    },
    {
      "cell_type": "markdown",
      "source": [
        "13. What is the purpose of Flask's request object\n",
        "\n",
        "  >The request object in Flask serves as a central interface for accessing incoming HTTP request data and metadata within a Flask application. It encapsulates all information sent by the client to the server during an HTTP request.\n"
      ],
      "metadata": {
        "id": "1OCo05XyG9av"
      }
    },
    {
      "cell_type": "markdown",
      "source": [
        "14. How do you create a RESTful API endpoint using Flask\n",
        "\n",
        "  >Creating a RESTful API endpoint using Flask involves defining routes that correspond to specific HTTP methods (GET, POST, PUT, DELETE) and handling requests and responses within those routes.\n"
      ],
      "metadata": {
        "id": "NpbaeNubG9eK"
      }
    },
    {
      "cell_type": "markdown",
      "source": [
        "15. What is the purpose of Flask's jsonify() function\n",
        "\n",
        "  >lask's jsonify() function serves the purpose of simplifying the process of returning JSON-formatted responses from a Flask web application."
      ],
      "metadata": {
        "id": "rvxHKMD8G9rI"
      }
    },
    {
      "cell_type": "markdown",
      "source": [
        "16. Explain Flask’s url_for() function\n",
        "\n",
        "  >Flask's url_for() function dynamically generates URLs for specific view functions or static files within a Flask application. Its primary purpose is to avoid hardcoding URLs, which makes the application more maintainable and adaptable to changes in URL structure."
      ],
      "metadata": {
        "id": "krImDwztG9up"
      }
    },
    {
      "cell_type": "markdown",
      "source": [
        "17. How does Flask handle static files (CSS, JavaScript, etc.)\n",
        "\n",
        "  >Flask provides a straightforward mechanism for handling static files such as CSS, JavaScript, images, and other assets that are served directly to the client's browser without dynamic processing.\n"
      ],
      "metadata": {
        "id": "kjm6Hl5BK4hQ"
      }
    },
    {
      "cell_type": "markdown",
      "source": [
        "18. What is an API specification, and how does it help in building a Flask AP\n",
        "\n",
        "  >An API specification is a formal, detailed description of an Application Programming Interface (API). It serves as a blueprint, outlining how an API functions, its available endpoints, the expected inputs and outputs for each operation, the data models used, and any security requirements. Examples include the OpenAPI Specification (formerly Swagger) and RAML.\n",
        "\n",
        "How it helps in building a Flask App:\n",
        "API specifications significantly aid in building Flask applications by:\n",
        "\n",
        "Clear Communication and Design:\n",
        "It provides a shared understanding among developers, both backend (building the Flask app) and frontend (consuming the API), ensuring consistent implementation and integration.\n",
        "It forces a clear design upfront, leading to more robust and well-structured APIs.\n",
        "\n",
        "Automated Documentation:\n",
        "Tools like flask-apispec can leverage API specifications (e.g., OpenAPI) to automatically generate interactive API documentation (like Swagger UI) directly from your Flask code. This eliminates manual documentation efforts and ensures it remains in sync with the API's actual implementation.\n",
        "\n",
        "Code Generation:\n",
        "Some tools can generate boilerplate code (e.g., client SDKs, server stubs) based on the specification, accelerating development for both the Flask application and its consumers.\n",
        "\n",
        "Validation and Testing:\n",
        "The specification defines the expected data structures and parameters, allowing for automated validation of requests and responses within your Flask app, leading to fewer errors and more reliable data handling.\n",
        "It facilitates the creation of comprehensive test suites by providing a clear contract for API behavior.\n",
        "\n",
        "Maintainability and Scalability:\n",
        "A well-defined specification makes it easier to onboard new developers, understand the API's functionality, and manage changes or extensions in a structured manner as the Flask application evolves."
      ],
      "metadata": {
        "id": "2npJTfKjK4sa"
      }
    },
    {
      "cell_type": "markdown",
      "source": [
        "19. What are HTTP status codes, and why are they important in a Flask API\n",
        "\n",
        "  >HTTP status codes are three-digit numeric codes returned by a server in response to an HTTP request, indicating the outcome of the request. They provide a standardized way for the server to communicate with the client about whether the request was successful, redirected, or encountered an error.\n",
        "\n",
        "The importance of HTTP status codes in a Flask API stems from several key reasons:\n",
        "\n",
        "Standardized Communication:\n",
        "Status codes provide a universal language for server-client interaction, allowing clients (like web browsers or other applications) to understand the result of their requests without needing to parse custom error messages.\n",
        "\n",
        "Error Handling and Debugging:\n",
        "They clearly distinguish between different types of errors (client-side vs. server-side), enabling developers to quickly diagnose and address issues. For example, a 404 Not Found indicates a client error (resource not found), while a 500 Internal Server Error points to a server-side problem.\n",
        "\n",
        "Client-Side Logic:\n",
        "Clients can use status codes to trigger specific actions or display appropriate messages to the user. For instance, a 201 Created might prompt a success message, while a 401 Unauthorized could redirect the user to a login page.\n",
        "\n",
        "API Design and Best Practices:\n",
        "Adhering to appropriate HTTP status codes is a fundamental aspect of designing RESTful APIs, promoting clarity, predictability, and maintainability.\n",
        "\n",
        "Caching and Performance:\n",
        "Status codes like 304 Not Modified can be used to optimize performance by indicating that a resource has not changed, allowing clients to use cached versions."
      ],
      "metadata": {
        "id": "9YMCY7uVK42F"
      }
    },
    {
      "cell_type": "markdown",
      "source": [
        "20. How do you handle POST requests in Flask\n",
        "\n",
        "  >Handling POST requests in Flask involves defining routes that specifically accept the POST method and then accessing the data sent in the request. Define the route and specify methods.\n"
      ],
      "metadata": {
        "id": "SohmispAK5F7"
      }
    },
    {
      "cell_type": "markdown",
      "source": [
        "21.  How would you secure a Flask API\n",
        "\n",
        "  >Securing a Flask API involves implementing a combination of best practices and security measures to protect against common vulnerabilities.\n",
        "\n",
        "Authentication and Authorization:\n",
        "Token-Based Authentication (e.g., JWT):\n",
        "This is a common and secure method for APIs. Users authenticate once to receive a token, which is then sent with subsequent requests for validation. Libraries like Flask-JWT-Extended simplify this process.\n",
        "OAuth 2.0:\n",
        "For more complex scenarios, especially when integrating with third-party services, OAuth 2.0 provides a robust framework for delegated authorization.\n",
        "Role-Based Access Control (RBAC):\n",
        "Implement a system to define and enforce permissions based on user roles, ensuring users can only access resources they are authorized for.\n",
        "\n",
        "Input Validation and Sanitization:\n",
        "Prevent Injection Attacks:\n",
        "Validate and sanitize all user input to prevent SQL injection, XSS (Cross-Site Scripting), and other injection vulnerabilities.\n",
        "Use Libraries:\n",
        "Employ libraries like Marshmallow for data serialization and deserialization, which can include validation rules.\n",
        "\n",
        "Secure Configuration:\n",
        "Disable Debug Mode in Production:\n",
        "Running Flask in debug mode in a production environment exposes sensitive information and should be avoided.\n",
        "\n",
        "Protect Sensitive Data:\n",
        "Store sensitive information like database credentials, API keys, and encryption keys securely, ideally using environment variables or a dedicated secrets management solution, rather than directly in code or configuration files.\n",
        "\n",
        "Use a Strong Secret Key:\n",
        "Configure a strong, randomly generated secret key for session management and other cryptographic operations.\n",
        "\n",
        "Network and Server Security:\n",
        "HTTPS/SSL/TLS:\n",
        "Always use HTTPS to encrypt communication between clients and your API, protecting data in transit.\n",
        "Firewall Rules:\n",
        "Configure firewalls to restrict access to only necessary ports and services.\n",
        "Regular Updates:\n",
        "Keep your Flask, Python, and all dependencies updated to patch known security vulnerabilities.\n",
        "Content Security Policy (CSP):\n",
        "Implement CSP headers to mitigate XSS attacks by controlling which resources the browser is allowed to load."
      ],
      "metadata": {
        "id": "0HPBDP0ZK5Mb"
      }
    },
    {
      "cell_type": "markdown",
      "source": [
        "22. What is the significance of the Flask-RESTful extension\n",
        "\n",
        "  >Flask-RESTful is a Flask extension that simplifies the process of building REST APIs. It provides a structured way to define resources, handle requests, and format responses, making it easier and more efficient to develop APIs in line with REST principles.\n"
      ],
      "metadata": {
        "id": "5mB2kdizL-6_"
      }
    },
    {
      "cell_type": "markdown",
      "source": [
        "23. What is the role of Flask’s session object\n",
        "\n",
        "  >In Flask, the session object provides a mechanism to store user-specific data across multiple requests, enabling stateful interactions within a web application. It acts like a dictionary, storing key-value pairs that persist between different page visits or form submissions from the same user. This is crucial for maintaining user information like login status, preferences, or shopping cart contents.\n"
      ],
      "metadata": {
        "id": "oNGjqQbiMJZd"
      }
    },
    {
      "cell_type": "markdown",
      "source": [
        "#Practical Question\n"
      ],
      "metadata": {
        "id": "IkM6OYXQMJft"
      }
    },
    {
      "cell_type": "markdown",
      "source": [
        "1. How do you create a basic Flask application"
      ],
      "metadata": {
        "id": "_034maj1MPr6"
      }
    },
    {
      "cell_type": "code",
      "source": [
        " pip install Flask\n",
        " from flask import Flask\n",
        "\n",
        " # Create an instance of the Flask class\n",
        " app = Flask(__name__)\n",
        "\n",
        " # Define a route and a function to handle requests to that route\n",
        " @app.route('/')\n",
        " def hello_world():\n",
        "    return 'Hello, Flask World!'\n",
        "\n",
        " # Run the application\n",
        " if __name__ == '__main__':\n",
        "    app.run(debug=True)"
      ],
      "metadata": {
        "colab": {
          "base_uri": "https://localhost:8080/",
          "height": 110
        },
        "id": "7VtgF9agR5_6",
        "outputId": "a1aa6b9b-76b8-41a4-8062-e492627934c1"
      },
      "execution_count": 12,
      "outputs": [
        {
          "output_type": "error",
          "ename": "SyntaxError",
          "evalue": "invalid syntax (ipython-input-915810807.py, line 1)",
          "traceback": [
            "\u001b[0;36m  File \u001b[0;32m\"/tmp/ipython-input-915810807.py\"\u001b[0;36m, line \u001b[0;32m1\u001b[0m\n\u001b[0;31m    pip install Flask\u001b[0m\n\u001b[0m        ^\u001b[0m\n\u001b[0;31mSyntaxError\u001b[0m\u001b[0;31m:\u001b[0m invalid syntax\n"
          ]
        }
      ]
    },
    {
      "cell_type": "markdown",
      "source": [
        "2.  How do you serve static files like images or CSS in Flask\n",
        "\n",
        "  >Flask provides a straightforward way to serve static files such as images, CSS, and JavaScript. The default and recommended approach involves placing these files within a dedicated static folder at the root level of your Flask application.\n",
        "\n",
        "Create the static folder:\n",
        "Ensure you have a folder named static directly within your Flask project's main directory. This is where you will store all your static assets.\n",
        "\n",
        "Organize your static files:\n",
        "Within the static folder, you can organize your files further into subdirectories, such as static/css, static/js, and static/images, for better organization.\n",
        "\n",
        "Reference static files in your templates:\n",
        "To link to these static files within your HTML templates, use the url_for() function with the static endpoint and the filename argument. This function dynamically generates the correct URL for your static files, ensuring compatibility across different environments.\n",
        "Oops, something went wrong."
      ],
      "metadata": {
        "id": "jomt74ehMR9l"
      }
    },
    {
      "cell_type": "markdown",
      "source": [
        "3.  How do you define different routes with different HTTP methods in Flask"
      ],
      "metadata": {
        "id": "GlEP2m-FMUY6"
      }
    },
    {
      "cell_type": "code",
      "source": [
        "    from flask import Flask, request\n",
        "    app = Flask(__name__)\n",
        "    @app.route('/example', methods=['GET', 'POST'])\n",
        "    def example():\n",
        "        if request.method == 'GET':\n",
        "            return 'This is a GET request.'\n",
        "        elif request.method == 'POST':\n",
        "            return 'This is a POST request.'\n",
        ""
      ],
      "metadata": {
        "id": "LqkfvIcYMVL6"
      },
      "execution_count": 11,
      "outputs": []
    },
    {
      "cell_type": "markdown",
      "source": [
        "4. How do you render HTML templates in Flask"
      ],
      "metadata": {
        "id": "URl_8krwMVvk"
      }
    },
    {
      "cell_type": "code",
      "source": [
        "from flask import Flask, render_template\n",
        "app = Flask(__name__)\n",
        "\n",
        "@app.route('/')\n",
        "def index():\n",
        "    user_name = \"World\"\n",
        "    data_list = [\"Item 1\", \"Item 2\", \"Item 3\"]\n",
        "    return render_template('index.html', variable_name=user_name, items=data_list, condition=True)"
      ],
      "metadata": {
        "id": "ERydutwaMWtu"
      },
      "execution_count": 14,
      "outputs": []
    },
    {
      "cell_type": "markdown",
      "metadata": {
        "id": "3f6abf1c"
      },
      "source": [
        "```html\n",
        "<!DOCTYPE html>\n",
        "<html>\n",
        "<head>\n",
        "    <title>Flask Template Example</title>\n",
        "</head>\n",
        "<body>\n",
        "    <h1>Hello, {{ variable_name }}!</h1>\n",
        "\n",
        "    <h2>List of Items:</h2>\n",
        "    <ul>\n",
        "        {% for item in items %}\n",
        "            <li>{{ item }}</li>\n",
        "        {% endfor %}\n",
        "    </ul>\n",
        "\n",
        "    {% if condition %}\n",
        "        <p>This text is displayed because the condition is true.</p>\n",
        "    {% endif %}\n",
        "</body>\n",
        "</html>"
      ]
    },
    {
      "cell_type": "markdown",
      "source": [
        "5. How can you generate URLs for routes in Flask using url_for\n",
        "\n",
        "  >Using the url_for() Function: The url_for() function is a built-in Flask function that allows you to generate URLs dynamically for different routes or views in your Flask application. The url_for() function takes the name of the route or view as an argument and returns a URL that points to that route.\n"
      ],
      "metadata": {
        "id": "8sS1zPOmUMxA"
      }
    },
    {
      "cell_type": "markdown",
      "source": [
        "6. How do you handle forms in Flask"
      ],
      "metadata": {
        "id": "Yy6TDkueUaAr"
      }
    },
    {
      "cell_type": "code",
      "source": [
        "    from flask import Flask, render_template, request, redirect, url_for\n",
        "\n",
        "    app = Flask(__name__)\n",
        "\n",
        "    @app.route('/submit_form', methods=['GET', 'POST'])\n",
        "    def handle_form():\n",
        "        if request.method == 'POST':\n",
        "            username = request.form['username']\n",
        "            email = request.form['email']\n",
        "            # Process the data (e.g., save to database, perform validation)\n",
        "            return f\"Username: {username}, Email: {email} submitted successfully!\"\n",
        "        return render_template('form.html') # Render the form on GET request"
      ],
      "metadata": {
        "id": "Fbpqa3npUzBs"
      },
      "execution_count": 16,
      "outputs": []
    },
    {
      "cell_type": "markdown",
      "source": [
        "7. How can you validate form data in Flask"
      ],
      "metadata": {
        "id": "trWwRd-OVBcu"
      }
    },
    {
      "cell_type": "code",
      "source": [
        "from flask import request\n",
        "\n",
        "@app.route('/submit_data', methods=['POST'])\n",
        "def submit_data():\n",
        "    if request.method == 'POST':\n",
        "        name = request.form.get('name')\n",
        "        age = request.form.get('age')\n",
        "\n",
        "        errors = []\n",
        "        if not name:\n",
        "            errors.append('Name is required.')\n",
        "        if not age or not age.isdigit():\n",
        "            errors.append('Age must be a number.')\n",
        "\n",
        "        if errors:\n",
        "            return render_template('error.html', errors=errors)\n",
        "        else:\n",
        "            # Process valid data\n",
        "            return \"Data submitted successfully!\""
      ],
      "metadata": {
        "id": "k6x61XFyU8y_"
      },
      "execution_count": 17,
      "outputs": []
    },
    {
      "cell_type": "markdown",
      "source": [
        "8. How do you manage sessions in Flask"
      ],
      "metadata": {
        "id": "V9jzGZanVNrm"
      }
    },
    {
      "cell_type": "code",
      "source": [
        "from flask import Flask\n",
        "app = Flask(__name__)\n",
        "app.config['SECRET_KEY'] = 'your_secret_key_here' # Replace with a strong, random key\n",
        "from flask import session\n",
        "\n",
        "@app.route('/login')\n",
        "def login():\n",
        "    session['user_id'] = 123\n",
        "    session['username'] = 'example_user'\n",
        "    return 'Logged in!'\n",
        "\n",
        "@app.route('/profile')\n",
        "def profile():\n",
        "    user_id = session.get('user_id')\n",
        "    username = session.get('username')\n",
        "    if user_id and username:\n",
        "        return f'User ID: {user_id}, Username: {username}'\n",
        "    return 'Not logged in.'\n",
        "@app.route('/logout')\n",
        "def logout():\n",
        "    session.pop('user_id', None) # Remove 'user_id' if it exists\n",
        "    # session.clear() # To clear all session data\n",
        "    return 'Logged out.'\n",
        "from datetime import timedelta"
      ],
      "metadata": {
        "id": "uX2RVCE8VZ_D"
      },
      "execution_count": 26,
      "outputs": []
    },
    {
      "cell_type": "markdown",
      "source": [
        "9. How do you redirect to a different route in Flask"
      ],
      "metadata": {
        "id": "J-D8Si7DWaS0"
      }
    },
    {
      "cell_type": "code",
      "source": [
        "from flask import Flask, redirect, url_for\n",
        "\n",
        "@app.route('/old-route')\n",
        "def old_route():\n",
        "    # Redirect to the 'new_route' function\n",
        "    return redirect(url_for('new_route'))\n",
        "\n",
        "@app.route('/new-route')\n",
        "def new_route():\n",
        "    return \"You've been redirected to the new route!\"\n",
        "\n",
        "@app.route('/external-redirect')\n",
        "def external_redirect():\n",
        "    # Redirect to an external website\n",
        "    return redirect(\"https://www.example.com\")\n",
        "\n",
        "@app.route('/')\n",
        "def index():\n",
        "    return \"Welcome to the homepage! Go to /login-page to be redirected.\"\n",
        "\n",
        "@app.route('/login-page')\n",
        "def login_page():\n",
        "    # Simulate a successful login and redirect to a dashboard\n",
        "    return redirect(url_for('dashboard'))\n",
        "\n",
        "@app.route('/dashboard')\n",
        "def dashboard():\n",
        "    return \"Welcome to your dashboard!\""
      ],
      "metadata": {
        "id": "uYadAx__VMRG"
      },
      "execution_count": 29,
      "outputs": []
    },
    {
      "cell_type": "markdown",
      "source": [
        "10. How do you handle errors in Flask (e.g., 404)"
      ],
      "metadata": {
        "id": "-9caOeqDW5s3"
      }
    },
    {
      "cell_type": "code",
      "source": [
        "from flask import Flask, render_template, abort\n",
        "\n",
        "app = Flask(__name__)\n",
        "\n",
        "# Custom handler for 404 Not Found errors\n",
        "@app.errorhandler(404)\n",
        "def page_not_found(e):\n",
        "    return render_template('404.html'), 404\n",
        "\n",
        "# Custom handler for 500 Internal Server Errors\n",
        "@app.errorhandler(500)\n",
        "def internal_server_error(e):\n",
        "    return render_template('500.html'), 500\n",
        "\n",
        "@app.route('/')\n",
        "def index():\n",
        "    return \"Welcome to the homepage!\"\n",
        "\n",
        "@app.route('/nonexistent')\n",
        "def nonexistent_page():\n",
        "    # Manually trigger a 404 error\n",
        "    abort(404)\n",
        "\n",
        "if __name__ == '__main__':\n",
        "    app.run(debug=True)"
      ],
      "metadata": {
        "colab": {
          "base_uri": "https://localhost:8080/"
        },
        "id": "7QjHKhvVWzCt",
        "outputId": "d696959d-1245-4383-8d03-3fd165971545"
      },
      "execution_count": 34,
      "outputs": [
        {
          "output_type": "stream",
          "name": "stdout",
          "text": [
            " * Serving Flask app '__main__'\n",
            " * Debug mode: on\n"
          ]
        },
        {
          "output_type": "stream",
          "name": "stderr",
          "text": [
            "INFO:werkzeug:\u001b[31m\u001b[1mWARNING: This is a development server. Do not use it in a production deployment. Use a production WSGI server instead.\u001b[0m\n",
            " * Running on http://127.0.0.1:5000\n",
            "INFO:werkzeug:\u001b[33mPress CTRL+C to quit\u001b[0m\n",
            "INFO:werkzeug: * Restarting with stat\n"
          ]
        }
      ]
    },
    {
      "cell_type": "markdown",
      "source": [
        "11. How do you structure a Flask app using Blueprints"
      ],
      "metadata": {
        "id": "YRzOHyN5XGaK"
      }
    },
    {
      "cell_type": "code",
      "source": [
        "from flask import Flask, Blueprint\n",
        "\n",
        "# Define the Blueprint instance\n",
        "auth_bp = Blueprint('auth', __name__, template_folder='templates', static_folder='static')\n",
        "\n",
        "# Define routes within the blueprint\n",
        "@auth_bp.route('/login')\n",
        "def login():\n",
        "    return \"Login page\"\n",
        "\n",
        "@auth_bp.route('/register')\n",
        "def register():\n",
        "    return \"Register page\"\n",
        "\n",
        "# Create a Flask application instance (assuming 'app' is not already defined)\n",
        "# If 'app' is already defined in a previous cell, you can remove the following line:\n",
        "app = Flask(__name__)\n",
        "\n",
        "# Register the blueprint with the Flask application\n",
        "app.register_blueprint(auth_bp, url_prefix='/auth')\n",
        "\n",
        "# You would typically run the app in a separate cell or block\n",
        "# if __name__ == '__main__':\n",
        "#     app.run(debug=True)"
      ],
      "metadata": {
        "id": "wwEkeeeHXDMC"
      },
      "execution_count": 32,
      "outputs": []
    },
    {
      "cell_type": "markdown",
      "source": [
        "12. How do you define a custom Jinja filter in Flask"
      ],
      "metadata": {
        "id": "anaDnTaDXmeh"
      }
    },
    {
      "cell_type": "code",
      "source": [
        "from flask import Flask\n",
        "\n",
        "app = Flask(__name__)\n",
        "\n",
        "@app.template_filter('my_custom_filter')\n",
        "def my_custom_filter_function(value):\n",
        "    \"\"\"\n",
        "    This filter converts the input value to uppercase.\n",
        "    \"\"\"\n",
        "    return str(value).upper()\n",
        "\n",
        "@app.route('/')\n",
        "def index():\n",
        "    return '''\n",
        "    <h1>Custom Filter Example</h1>\n",
        "    <p>{{ \"hello world\" | my_custom_filter }}</p>\n",
        "    '''\n",
        "\n",
        "if __name__ == '__main__':\n",
        "    app.run(debug=True)"
      ],
      "metadata": {
        "colab": {
          "base_uri": "https://localhost:8080/"
        },
        "id": "X_HPRwggXaCR",
        "outputId": "2aa092f9-f75c-4c2a-8091-981f65c8547b"
      },
      "execution_count": 35,
      "outputs": [
        {
          "output_type": "stream",
          "name": "stdout",
          "text": [
            " * Serving Flask app '__main__'\n",
            " * Debug mode: on\n"
          ]
        },
        {
          "output_type": "stream",
          "name": "stderr",
          "text": [
            "INFO:werkzeug:\u001b[31m\u001b[1mWARNING: This is a development server. Do not use it in a production deployment. Use a production WSGI server instead.\u001b[0m\n",
            " * Running on http://127.0.0.1:5000\n",
            "INFO:werkzeug:\u001b[33mPress CTRL+C to quit\u001b[0m\n",
            "INFO:werkzeug: * Restarting with stat\n"
          ]
        }
      ]
    },
    {
      "cell_type": "markdown",
      "source": [
        "13. How can you redirect with query parameters in Flask"
      ],
      "metadata": {
        "id": "qHCW-FzEX0wo"
      }
    },
    {
      "cell_type": "code",
      "source": [
        "from flask import Flask, redirect, url_for, request\n",
        "\n",
        "app = Flask(__name__)\n",
        "\n",
        "@app.route('/target_page')\n",
        "def target_page():\n",
        "    param1 = request.args.get('param1')\n",
        "    param2 = request.args.get('param2')\n",
        "    return f\"Welcome to the target page! Param1: {param1}, Param2: {param2}\"\n",
        "\n",
        "@app.route('/redirect_from_here')\n",
        "def redirect_from_here():\n",
        "    # Define your query parameters\n",
        "    query_params = {'param1': 'value_one', 'param2': 'value_two'}\n",
        "\n",
        "    # Use url_for to build the URL with query parameters and then redirect\n",
        "    return redirect(url_for('target_page', **query_params))"
      ],
      "metadata": {
        "id": "B8Rv5ugtXxbp"
      },
      "execution_count": 37,
      "outputs": []
    },
    {
      "cell_type": "markdown",
      "source": [
        "14.  How do you return JSON responses in Flask"
      ],
      "metadata": {
        "id": "AYuOXDc3YW4B"
      }
    },
    {
      "cell_type": "code",
      "source": [
        "from flask import Flask, jsonify\n",
        "\n",
        "@app.route('/data')\n",
        "def get_data():\n",
        "    data = {\n",
        "        \"name\": \"Alice\",\n",
        "        \"age\": 30,\n",
        "        \"city\": \"New York\"\n",
        "    }\n",
        "    return jsonify(data) # Use jsonify to return JSON\n",
        "\n",
        "@app.route('/status')\n",
        "def get_status():\n",
        "    return jsonify(status=\"success\", message=\"Operation completed.\")"
      ],
      "metadata": {
        "id": "Y6iXEOgwYKlm"
      },
      "execution_count": 39,
      "outputs": []
    },
    {
      "cell_type": "markdown",
      "source": [
        "15.  How do you capture URL parameters in Flask"
      ],
      "metadata": {
        "id": "h1zCJLi8Yt-T"
      }
    },
    {
      "cell_type": "code",
      "source": [
        "from flask import Flask\n",
        "\n",
        "app = Flask(__name__)\n",
        "\n",
        "@app.route('/user/<username>')\n",
        "def show_user_profile(username):\n",
        "    return f'User: {username}'\n",
        "\n",
        "@app.route('/post/<int:post_id>')\n",
        "def show_post(post_id):\n",
        "    return f'Post ID: {post_id}'\n",
        "    from flask import Flask, request\n",
        "\n",
        "app = Flask(__name__)\n",
        "\n",
        "@app.route('/search')\n",
        "def search():\n",
        "    query = request.args.get('q', 'No query provided') # 'q' is the parameter, 'No query provided' is the default\n",
        "    category = request.args.get('category')\n",
        "    return f'Searching for: \"{query}\" in category: \"{category}\"'"
      ],
      "metadata": {
        "id": "zTZ5l5VtYmsT"
      },
      "execution_count": 40,
      "outputs": []
    }
  ]
}